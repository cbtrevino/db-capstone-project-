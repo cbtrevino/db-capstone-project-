{
 "cells": [
  {
   "cell_type": "markdown",
   "id": "1d254e53-e724-400b-96ce-5522dc8e1aa2",
   "metadata": {},
   "source": [
    "# Database Client Exercises for Capstone Project"
   ]
  },
  {
   "cell_type": "markdown",
   "id": "0ec977e7-89d8-4be5-9603-a7a83569812f",
   "metadata": {},
   "source": [
    "## Exercise: Set up the client project"
   ]
  },
  {
   "cell_type": "code",
   "execution_count": 2,
   "id": "a3f229a7-8aa1-42f9-af7d-e7295e9100ac",
   "metadata": {},
   "outputs": [],
   "source": [
    "# Import the connector under the alias connector:\n",
    "import mysql.connector as connector\n"
   ]
  },
  {
   "cell_type": "code",
   "execution_count": 5,
   "id": "8ea753e3-3846-46d5-9f89-e36cd6ad79ec",
   "metadata": {},
   "outputs": [],
   "source": [
    "# Verify that a connection can be made with your database by calling the connection method from the connector class: \n",
    "connection = connector.connect(user = \"capstone_user\", password = \"capstone_user_password\", db = \"LittleLemonDBFour\")"
   ]
  },
  {
   "cell_type": "markdown",
   "id": "57bbcde5-1def-4212-a343-20ca26431165",
   "metadata": {},
   "source": [
    "## Exercise: Add query functions"
   ]
  },
  {
   "cell_type": "markdown",
   "id": "3696ce5f-5e46-413e-a73b-87ce92468cba",
   "metadata": {},
   "source": [
    "**Task One**\n",
    "- In the previous exercise you created a Python environment. In the first task of this exercise, you are tasked with extending the environment to connect with your database and interact with the data it holds. \n",
    "\n",
    "- Your first step is to import the connector module, enter your user details and connect with the database (Hint: you can use an alias when importing the module).\n",
    "\n",
    "- This gives you access to all the functionality available from the connector API, which can be accessed through the variable named connector (or whichever alias you choose). \n",
    "\n",
    "- To connect with your database, you can call the connect method of the connector class and pass in your details using the following code: "
   ]
  },
  {
   "cell_type": "code",
   "execution_count": 6,
   "id": "785e612c-adb0-4f22-9352-e74f537d2d76",
   "metadata": {},
   "outputs": [],
   "source": [
    "# instantiate an instance of cursor\n",
    "cursor = connection.cursor()"
   ]
  },
  {
   "cell_type": "code",
   "execution_count": 7,
   "id": "e96cabf9-c12d-41e8-b181-09750ee247d1",
   "metadata": {},
   "outputs": [],
   "source": [
    "# Set the database for use\n",
    "cursor.execute(\"USE LittleLemonDBFour;\")"
   ]
  },
  {
   "cell_type": "markdown",
   "id": "70bde6ed-6310-43d9-8788-cac750eaf033",
   "metadata": {},
   "source": [
    "**Task two**\n",
    "- In this second task, you now need to query the database to show all tables within the database. "
   ]
  },
  {
   "cell_type": "code",
   "execution_count": 20,
   "id": "2a4cc09d-3439-4428-bed8-069abafdd282",
   "metadata": {},
   "outputs": [],
   "source": [
    "# list all tables in the database\n",
    "show_tables_query = \"SHOW tables;\" \n",
    "\n",
    "# run the query\n",
    "cursor.execute(show_tables_query)"
   ]
  },
  {
   "cell_type": "code",
   "execution_count": 21,
   "id": "a8267063-347d-42a4-9978-88067c5bf28e",
   "metadata": {},
   "outputs": [],
   "source": [
    "# store the results of the show_tables_query query\n",
    "results=cursor.fetchall()"
   ]
  },
  {
   "cell_type": "code",
   "execution_count": 22,
   "id": "1d969513-ac97-4c5b-b417-ffd30fab3ed4",
   "metadata": {},
   "outputs": [
    {
     "name": "stdout",
     "output_type": "stream",
     "text": [
      "[('Bookings',), ('Customers',), ('Delivery',), ('Menu',), ('MenuItems',), ('Orders',), ('ordersview',), ('Staff',)]\n"
     ]
    }
   ],
   "source": [
    "# print all table names\n",
    "print(results)"
   ]
  },
  {
   "cell_type": "markdown",
   "id": "0e4b68f9-95ce-4e15-a9f8-3522d16e56d3",
   "metadata": {},
   "source": [
    "**Task 3**\n",
    "- Query with table JOIN"
   ]
  },
  {
   "cell_type": "code",
   "execution_count": 23,
   "id": "f7755db9-c2cf-495c-9469-93cd3c3af57e",
   "metadata": {},
   "outputs": [],
   "source": [
    "# create the query\n",
    "join =\"\"\"\n",
    "SELECT Customers.CustomerID, Customers.FirstName, Customers.LastName, Customers.Email, Customers.ContactNumber\n",
    "FROM Customers\n",
    "JOIN Orders ON Customers.CustomerID = Orders.CustomerID\n",
    "WHERE Orders.TotalCost > 60;\n",
    "\"\"\""
   ]
  },
  {
   "cell_type": "code",
   "execution_count": 25,
   "id": "14e2310a-c3d5-412e-9ead-a0ec83dcf072",
   "metadata": {},
   "outputs": [],
   "source": [
    "# run the query\n",
    "cursor.execute(join)"
   ]
  },
  {
   "cell_type": "code",
   "execution_count": 26,
   "id": "40706e99-9cf5-492f-8edb-d62ff3beafde",
   "metadata": {},
   "outputs": [],
   "source": [
    "# store the results of the query\n",
    "results=cursor.fetchall()"
   ]
  },
  {
   "cell_type": "code",
   "execution_count": 28,
   "id": "d5ce2467-7579-4d80-86b3-7381ab91e96f",
   "metadata": {},
   "outputs": [
    {
     "name": "stdout",
     "output_type": "stream",
     "text": [
      "('CustomerID', 'FirstName', 'LastName', 'Email', 'ContactNumber')\n",
      "(1, 'Dan', 'Boyd', 'DBoyd@gmail.com', '456222222')\n",
      "(3, 'Ben', 'Dover', 'BDover@gmail.co ', '1724932827')\n"
     ]
    }
   ],
   "source": [
    "# store the column names\n",
    "columns=cursor.column_names\n",
    "# print column names\n",
    "print(columns)\n",
    "\n",
    "# print the results of the query\n",
    "for result in results:\n",
    "    print(result)"
   ]
  }
 ],
 "metadata": {
  "kernelspec": {
   "display_name": "Python 3 (ipykernel)",
   "language": "python",
   "name": "python3"
  },
  "language_info": {
   "codemirror_mode": {
    "name": "ipython",
    "version": 3
   },
   "file_extension": ".py",
   "mimetype": "text/x-python",
   "name": "python",
   "nbconvert_exporter": "python",
   "pygments_lexer": "ipython3",
   "version": "3.9.13"
  }
 },
 "nbformat": 4,
 "nbformat_minor": 5
}
